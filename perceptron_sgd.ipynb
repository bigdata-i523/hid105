{
 "cells": [
  {
   "cell_type": "code",
   "execution_count": 1,
   "metadata": {},
   "outputs": [
    {
     "data": {
      "text/plain": [
       "array([ 3.,  4.,  9.])"
      ]
     },
     "execution_count": 1,
     "metadata": {},
     "output_type": "execute_result"
    }
   ],
   "source": [
    "import numpy as np\n",
    "from matplotlib import pyplot as plt\n",
    "\n",
    "def perceptron_sgd(X, Y):\n",
    "\t w = np.zeros(len(X[0]))\n",
    "\t eta = 1\n",
    "\t epochs = 10\n",
    "\t for i in range(0, epochs):\n",
    "\t\t for j in range(0, len(X)):\n",
    "\t\t\t if np.dot(X[j], w) *Y[j] <= 0:\n",
    "\t\t\t\t w += X[j] * Y[j]\n",
    "\t return w\n",
    "\n",
    "\n",
    "\n",
    "\n",
    "X = np.array([\n",
    "    [-2,4,-1],\n",
    "    [4,1,-1],\n",
    "    [1, 6, -1],\n",
    "    [2, 4, -1],\n",
    "    [6, 2, -1],\n",
    " ])\n",
    "\n",
    "y = np.array([-1,-1,1,1,1])\n",
    "\n",
    "perceptron_sgd(X, y)\n",
    "#output:\n",
    "#array([ 3.,  4.,  9.])\n",
    "\n"
   ]
  }
 ],
 "metadata": {
  "kernelspec": {
   "display_name": "Python 3",
   "language": "python",
   "name": "python3"
  },
  "language_info": {
   "codemirror_mode": {
    "name": "ipython",
    "version": 3
   },
   "file_extension": ".py",
   "mimetype": "text/x-python",
   "name": "python",
   "nbconvert_exporter": "python",
   "pygments_lexer": "ipython3",
   "version": "3.6.2"
  }
 },
 "nbformat": 4,
 "nbformat_minor": 2
}
